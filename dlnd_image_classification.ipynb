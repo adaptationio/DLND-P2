{
 "cells": [
  {
   "cell_type": "markdown",
   "metadata": {
    "collapsed": true
   },
   "source": [
    "# Image Classification\n",
    "In this project, you'll classify images from the [CIFAR-10 dataset](https://www.cs.toronto.edu/~kriz/cifar.html).  The dataset consists of airplanes, dogs, cats, and other objects. You'll preprocess the images, then train a convolutional neural network on all the samples. The images need to be normalized and the labels need to be one-hot encoded.  You'll get to apply what you learned and build a convolutional, max pooling, dropout, and fully connected layers.  At the end, you'll get to see your neural network's predictions on the sample images.\n",
    "## Get the Data\n",
    "Run the following cell to download the [CIFAR-10 dataset for python](https://www.cs.toronto.edu/~kriz/cifar-10-python.tar.gz)."
   ]
  },
  {
   "cell_type": "code",
   "execution_count": 21,
   "metadata": {
    "collapsed": false
   },
   "outputs": [
    {
     "name": "stdout",
     "output_type": "stream",
     "text": [
      "All files found!\n"
     ]
    }
   ],
   "source": [
    "\"\"\"\n",
    "DON'T MODIFY ANYTHING IN THIS CELL THAT IS BELOW THIS LINE\n",
    "\"\"\"\n",
    "from urllib.request import urlretrieve\n",
    "from os.path import isfile, isdir\n",
    "from tqdm import tqdm\n",
    "import problem_unittests as tests\n",
    "import tarfile\n",
    "\n",
    "cifar10_dataset_folder_path = 'cifar-10-batches-py'\n",
    "\n",
    "class DLProgress(tqdm):\n",
    "    last_block = 0\n",
    "\n",
    "    def hook(self, block_num=1, block_size=1, total_size=None):\n",
    "        self.total = total_size\n",
    "        self.update((block_num - self.last_block) * block_size)\n",
    "        self.last_block = block_num\n",
    "\n",
    "if not isfile('cifar-10-python.tar.gz'):\n",
    "    with DLProgress(unit='B', unit_scale=True, miniters=1, desc='CIFAR-10 Dataset') as pbar:\n",
    "        urlretrieve(\n",
    "            'https://www.cs.toronto.edu/~kriz/cifar-10-python.tar.gz',\n",
    "            'cifar-10-python.tar.gz',\n",
    "            pbar.hook)\n",
    "\n",
    "if not isdir(cifar10_dataset_folder_path):\n",
    "    with tarfile.open('cifar-10-python.tar.gz') as tar:\n",
    "        tar.extractall()\n",
    "        tar.close()\n",
    "\n",
    "\n",
    "tests.test_folder_path(cifar10_dataset_folder_path)"
   ]
  },
  {
   "cell_type": "markdown",
   "metadata": {},
   "source": [
    "## Explore the Data\n",
    "The dataset is broken into batches to prevent your machine from running out of memory.  The CIFAR-10 dataset consists of 5 batches, named `data_batch_1`, `data_batch_2`, etc.. Each batch contains the labels and images that are one of the following:\n",
    "* airplane\n",
    "* automobile\n",
    "* bird\n",
    "* cat\n",
    "* deer\n",
    "* dog\n",
    "* frog\n",
    "* horse\n",
    "* ship\n",
    "* truck\n",
    "\n",
    "Understanding a dataset is part of making predictions on the data.  Play around with the code cell below by changing the `batch_id` and `sample_id`. The `batch_id` is the id for a batch (1-5). The `sample_id` is the id for a image and label pair in the batch.\n",
    "\n",
    "Ask yourself \"What are all possible labels?\", \"What is the range of values for the image data?\", \"Are the labels in order or random?\".  Answers to questions like these will help you preprocess the data and end up with better predictions."
   ]
  },
  {
   "cell_type": "code",
   "execution_count": 22,
   "metadata": {
    "collapsed": false
   },
   "outputs": [
    {
     "name": "stdout",
     "output_type": "stream",
     "text": [
      "\n",
      "Stats of batch 1:\n",
      "Samples: 10000\n",
      "Label Counts: {0: 1005, 1: 974, 2: 1032, 3: 1016, 4: 999, 5: 937, 6: 1030, 7: 1001, 8: 1025, 9: 981}\n",
      "First 20 Labels: [6, 9, 9, 4, 1, 1, 2, 7, 8, 3, 4, 7, 7, 2, 9, 9, 9, 3, 2, 6]\n",
      "\n",
      "Example of Image 5:\n",
      "Image - Min Value: 0 Max Value: 252\n",
      "Image - Shape: (32, 32, 3)\n",
      "Label - Label Id: 1 Name: automobile\n"
     ]
    },
    {
     "data": {
      "image/png": "[encoded data removed]",
      "text/plain": [
       "<matplotlib.figure.Figure at 0x7f822e393fd0>"
      ]
     },
     "metadata": {
      "image/png": {
       "height": 250,
       "width": 253
      }
     },
     "output_type": "display_data"
    }
   ],
   "source": [
    "%matplotlib inline\n",
    "%config InlineBackend.figure_format = 'retina'\n",
    "\n",
    "import helper\n",
    "import numpy as np\n",
    "\n",
    "# Explore the dataset\n",
    "batch_id = 1\n",
    "sample_id = 5\n",
    "helper.display_stats(cifar10_dataset_folder_path, batch_id, sample_id)"
   ]
  },
  {
   "cell_type": "markdown",
   "metadata": {},
   "source": [
    "## Implement Preprocess Functions\n",
    "### Normalize\n",
    "In the cell below, implement the `normalize` function to take in image data, `x`, and return it as a normalized Numpy array. The values should be in the range of 0 to 1, inclusive.  The return object should be the same shape as `x`."
   ]
  },
  {
   "cell_type": "code",
   "execution_count": 23,
   "metadata": {
    "collapsed": false
   },
   "outputs": [
    {
     "name": "stdout",
     "output_type": "stream",
     "text": [
      "Tests Passed\n"
     ]
    }
   ],
   "source": [
    "def normalize(x):\n",
    "    \"\"\"\n",
    "    Normalize a list of sample image data in the range of 0 to 1\n",
    "    : x: List of image data.  The image shape is (32, 32, 3)\n",
    "    : return: Numpy array of normalize data\n",
    "    \"\"\"\n",
    "    # TODO: Implement Function\n",
    "    xNormMax = 255\n",
    "    xNormMin = 0\n",
    "    a = 0.0\n",
    "    b = 1.0\n",
    "    output = a + ( ( ( x - xNormMin ) * ( b - a ) / ( xNormMax - xNormMin ) ) )\n",
    "    return output\n",
    "\n",
    "\n",
    "\"\"\"\n",
    "DON'T MODIFY ANYTHING IN THIS CELL THAT IS BELOW THIS LINE\n",
    "\"\"\"\n",
    "tests.test_normalize(normalize)"
   ]
  },
  {
   "cell_type": "markdown",
   "metadata": {},
   "source": [
    "### One-hot encode\n",
    "Just like the previous code cell, you'll be implementing a function for preprocessing.  This time, you'll implement the `one_hot_encode` function. The input, `x`, are a list of labels.  Implement the function to return the list of labels as One-Hot encoded Numpy array.  The possible values for labels are 0 to 9. The one-hot encoding function should return the same encoding for each value between each call to `one_hot_encode`.  Make sure to save the map of encodings outside the function.\n",
    "\n",
    "Hint: Don't reinvent the wheel."
   ]
  },
  {
   "cell_type": "code",
   "execution_count": 24,
   "metadata": {
    "collapsed": false
   },
   "outputs": [
    {
     "name": "stdout",
     "output_type": "stream",
     "text": [
      "Tests Passed\n"
     ]
    }
   ],
   "source": [
    "from sklearn import preprocessing\n",
    "def one_hot_encode(x):\n",
    "    \"\"\"\n",
    "    One hot encode a list of sample labels. Return a one-hot encoded vector for each label.\n",
    "    : x: List of sample Labels\n",
    "    : return: Numpy array of one-hot encoded labels\n",
    "    \"\"\"\n",
    "     #TODO: Implement Function\n",
    "    labels = np.array([0,1,2,3,4,5,6,7,8,9]) \n",
    "    lb = preprocessing.LabelBinarizer()\n",
    "    lb.fit(labels)\n",
    "    return lb.transform(x)\n",
    "\n",
    "\n",
    "\"\"\"\n",
    "DON'T MODIFY ANYTHING IN THIS CELL THAT IS BELOW THIS LINE\n",
    "\"\"\"\n",
    "tests.test_one_hot_encode(one_hot_encode)"
   ]
  },
  {
   "cell_type": "markdown",
   "metadata": {},
   "source": [
    "### Randomize Data\n",
    "As you saw from exploring the data above, the order of the samples are randomized.  It doesn't hurt to randomize it again, but you don't need to for this dataset."
   ]
  },
  {
   "cell_type": "markdown",
   "metadata": {},
   "source": [
    "## Preprocess all the data and save it\n",
    "Running the code cell below will preprocess all the CIFAR-10 data and save it to file. The code below also uses 10% of the training data for validation."
   ]
  },
  {
   "cell_type": "code",
   "execution_count": 25,
   "metadata": {
    "collapsed": false
   },
   "outputs": [],
   "source": [
    "\"\"\"\n",
    "DON'T MODIFY ANYTHING IN THIS CELL\n",
    "\"\"\"\n",
    "# Preprocess Training, Validation, and Testing Data\n",
    "helper.preprocess_and_save_data(cifar10_dataset_folder_path, normalize, one_hot_encode)"
   ]
  },
  {
   "cell_type": "markdown",
   "metadata": {},
   "source": [
    "# Check Point\n",
    "This is your first checkpoint.  If you ever decide to come back to this notebook or have to restart the notebook, you can start from here.  The preprocessed data has been saved to disk."
   ]
  },
  {
   "cell_type": "code",
   "execution_count": 26,
   "metadata": {
    "collapsed": true
   },
   "outputs": [],
   "source": [
    "\"\"\"\n",
    "DON'T MODIFY ANYTHING IN THIS CELL\n",
    "\"\"\"\n",
    "import pickle\n",
    "import problem_unittests as tests\n",
    "import helper\n",
    "\n",
    "# Load the Preprocessed Validation data\n",
    "valid_features, valid_labels = pickle.load(open('preprocess_validation.p', mode='rb'))"
   ]
  },
  {
   "cell_type": "markdown",
   "metadata": {},
   "source": [
    "## Build the network\n",
    "For the neural network, you'll build each layer into a function.  Most of the code you've seen has been outside of functions. To test your code more thoroughly, we require that you put each layer in a function.  This allows us to give you better feedback and test for simple mistakes using our unittests before you submit your project.\n",
    "\n",
    ">**Note:** If you're finding it hard to dedicate enough time for this course each week, we've provided a small shortcut to this part of the project. In the next couple of problems, you'll have the option to use classes from the [TensorFlow Layers](https://www.tensorflow.org/api_docs/python/tf/layers) or [TensorFlow Layers (contrib)](https://www.tensorflow.org/api_guides/python/contrib.layers) packages to build each layer, except the layers you build in the \"Convolutional and Max Pooling Layer\" section.  TF Layers is similar to Keras's and TFLearn's abstraction to layers, so it's easy to pickup.\n",
    "\n",
    ">However, if you would like to get the most out of this course, try to solve all the problems _without_ using anything from the TF Layers packages. You **can** still use classes from other packages that happen to have the same name as ones you find in TF Layers! For example, instead of using the TF Layers version of the `conv2d` class, [tf.layers.conv2d](https://www.tensorflow.org/api_docs/python/tf/layers/conv2d), you would want to use the TF Neural Network version of `conv2d`, [tf.nn.conv2d](https://www.tensorflow.org/api_docs/python/tf/nn/conv2d). \n",
    "\n",
    "Let's begin!\n",
    "\n",
    "### Input\n",
    "The neural network needs to read the image data, one-hot encoded labels, and dropout keep probability. Implement the following functions\n",
    "* Implement `neural_net_image_input`\n",
    " * Return a [TF Placeholder](https://www.tensorflow.org/api_docs/python/tf/placeholder)\n",
    " * Set the shape using `image_shape` with batch size set to `None`.\n",
    " * Name the TensorFlow placeholder \"x\" using the TensorFlow `name` parameter in the [TF Placeholder](https://www.tensorflow.org/api_docs/python/tf/placeholder).\n",
    "* Implement `neural_net_label_input`\n",
    " * Return a [TF Placeholder](https://www.tensorflow.org/api_docs/python/tf/placeholder)\n",
    " * Set the shape using `n_classes` with batch size set to `None`.\n",
    " * Name the TensorFlow placeholder \"y\" using the TensorFlow `name` parameter in the [TF Placeholder](https://www.tensorflow.org/api_docs/python/tf/placeholder).\n",
    "* Implement `neural_net_keep_prob_input`\n",
    " * Return a [TF Placeholder](https://www.tensorflow.org/api_docs/python/tf/placeholder) for dropout keep probability.\n",
    " * Name the TensorFlow placeholder \"keep_prob\" using the TensorFlow `name` parameter in the [TF Placeholder](https://www.tensorflow.org/api_docs/python/tf/placeholder).\n",
    "\n",
    "These names will be used at the end of the project to load your saved model.\n",
    "\n",
    "Note: `None` for shapes in TensorFlow allow for a dynamic size."
   ]
  },
  {
   "cell_type": "code",
   "execution_count": 27,
   "metadata": {
    "collapsed": false
   },
   "outputs": [
    {
     "name": "stdout",
     "output_type": "stream",
     "text": [
      "Image Input Tests Passed.\n",
      "Label Input Tests Passed.\n",
      "Keep Prob Tests Passed.\n"
     ]
    }
   ],
   "source": [
    "import tensorflow as tf\n",
    "\n",
    "def neural_net_image_input(image_shape):\n",
    "    \"\"\"\n",
    "    Return a Tensor for a bach of image input\n",
    "    : image_shape: Shape of the images\n",
    "    : return: Tensor for image input.\n",
    "    \"\"\"\n",
    "    # TODO: Implement Function\n",
    "    return tf.placeholder(tf.float32, [None, image_shape[0], image_shape[1], image_shape[2]], \"x\")\n",
    "\n",
    "\n",
    "def neural_net_label_input(n_classes):\n",
    "    \"\"\"\n",
    "    Return a Tensor for a batch of label input\n",
    "    : n_classes: Number of classes\n",
    "    : return: Tensor for label input.\n",
    "    \"\"\"\n",
    "    # TODO: Implement Function\n",
    "    return tf.placeholder(tf.float32, [None, n_classes], \"y\")\n",
    "\n",
    "\n",
    "def neural_net_keep_prob_input():\n",
    "    \"\"\"\n",
    "    Return a Tensor for keep probability\n",
    "    : return: Tensor for keep probability.\n",
    "    \"\"\"\n",
    "    # TODO: Implement Function\n",
    "    return tf.placeholder(tf.float32, None, \"keep_prob\")\n",
    "\n",
    "\n",
    "\"\"\"\n",
    "DON'T MODIFY ANYTHING IN THIS CELL THAT IS BELOW THIS LINE\n",
    "\"\"\"\n",
    "tf.reset_default_graph()\n",
    "tests.test_nn_image_inputs(neural_net_image_input)\n",
    "tests.test_nn_label_inputs(neural_net_label_input)\n",
    "tests.test_nn_keep_prob_inputs(neural_net_keep_prob_input)"
   ]
  },
  {
   "cell_type": "markdown",
   "metadata": {},
   "source": [
    "### Convolution and Max Pooling Layer\n",
    "Convolution layers have a lot of success with images. For this code cell, you should implement the function `conv2d_maxpool` to apply convolution then max pooling:\n",
    "* Create the weight and bias using `conv_ksize`, `conv_num_outputs` and the shape of `x_tensor`.\n",
    "* Apply a convolution to `x_tensor` using weight and `conv_strides`.\n",
    " * We recommend you use same padding, but you're welcome to use any padding.\n",
    "* Add bias\n",
    "* Add a nonlinear activation to the convolution.\n",
    "* Apply Max Pooling using `pool_ksize` and `pool_strides`.\n",
    " * We recommend you use same padding, but you're welcome to use any padding.\n",
    "\n",
    "**Note:** You **can't** use [TensorFlow Layers](https://www.tensorflow.org/api_docs/python/tf/layers) or [TensorFlow Layers (contrib)](https://www.tensorflow.org/api_guides/python/contrib.layers) for **this** layer, but you can still use TensorFlow's [Neural Network](https://www.tensorflow.org/api_docs/python/tf/nn) package. You may still use the shortcut option for all the **other** layers."
   ]
  },
  {
   "cell_type": "code",
   "execution_count": 28,
   "metadata": {
    "collapsed": false
   },
   "outputs": [
    {
     "name": "stdout",
     "output_type": "stream",
     "text": [
      "Tests Passed\n"
     ]
    }
   ],
   "source": [
    "def conv2d_maxpool(x_tensor, conv_num_outputs, conv_ksize, conv_strides, pool_ksize, pool_strides):\n",
    "    \"\"\"\n",
    "    Apply convolution then max pooling to x_tensor\n",
    "    :param x_tensor: TensorFlow Tensor\n",
    "    :param conv_num_outputs: Number of outputs for the convolutional layer\n",
    "    :param conv_ksize: kernal size 2-D Tuple for the convolutional layer\n",
    "    :param conv_strides: Stride 2-D Tuple for convolution\n",
    "    :param pool_ksize: kernal size 2-D Tuple for pool\n",
    "    :param pool_strides: Stride 2-D Tuple for pool\n",
    "    : return: A tensor that represents convolution and max pooling of x_tensor\n",
    "    \"\"\"\n",
    "    # TODO: Implement Function\n",
    "    weight = tf.Variable(tf.truncated_normal([conv_ksize[0], conv_ksize[1], x_tensor.get_shape().as_list()[3], conv_num_outputs], mean=0, stddev=0.1))\n",
    "    bias = tf.Variable(tf.zeros(conv_num_outputs))\n",
    "    convLayer = tf.nn.conv2d(x_tensor, weight, strides=[1, conv_strides[0], conv_strides[1], 1], padding='SAME')\n",
    "    convLayer = tf.nn.bias_add(convLayer, bias)\n",
    "    convLayer = tf.nn.relu(convLayer)\n",
    "    convLayer = tf.nn.max_pool(convLayer, ksize=[1, pool_ksize[0], pool_ksize[1], 1], strides=[1, pool_strides[0], pool_strides[1], 1], padding='SAME')\n",
    "    return convLayer \n",
    "\n",
    "\n",
    "\"\"\"\n",
    "DON'T MODIFY ANYTHING IN THIS CELL THAT IS BELOW THIS LINE\n",
    "\"\"\"\n",
    "tests.test_con_pool(conv2d_maxpool)"
   ]
  },
  {
   "cell_type": "markdown",
   "metadata": {},
   "source": [
    "### Flatten Layer\n",
    "Implement the `flatten` function to change the dimension of `x_tensor` from a 4-D tensor to a 2-D tensor.  The output should be the shape (*Batch Size*, *Flattened Image Size*). Shortcut option: you can use classes from the [TensorFlow Layers](https://www.tensorflow.org/api_docs/python/tf/layers) or [TensorFlow Layers (contrib)](https://www.tensorflow.org/api_guides/python/contrib.layers) packages for this layer. For more of a challenge, only use other TensorFlow packages."
   ]
  },
  {
   "cell_type": "code",
   "execution_count": 29,
   "metadata": {
    "collapsed": false
   },
   "outputs": [
    {
     "name": "stdout",
     "output_type": "stream",
     "text": [
      "Tests Passed\n"
     ]
    }
   ],
   "source": [
    "def flatten(x_tensor):\n",
    "    \"\"\"\n",
    "    Flatten x_tensor to (Batch Size, Flattened Image Size)\n",
    "    : x_tensor: A tensor of size (Batch Size, ...), where ... are the image dimensions.\n",
    "    : return: A tensor of size (Batch Size, Flattened Image Size).\n",
    "    \"\"\"\n",
    "    # TODO: Implement Function\n",
    "    tensorShape = x_tensor.get_shape().as_list()\n",
    "    batchSize = tf.shape(x_tensor)[0]\n",
    "    flatImageSize = tensorShape[1] * tensorShape[2] * tensorShape[3]\n",
    "    return tf.reshape(x_tensor, [batchSize, flatImageSize])\n",
    "\n",
    "\n",
    "\"\"\"\n",
    "DON'T MODIFY ANYTHING IN THIS CELL THAT IS BELOW THIS LINE\n",
    "\"\"\"\n",
    "tests.test_flatten(flatten)"
   ]
  },
  {
   "cell_type": "markdown",
   "metadata": {},
   "source": [
    "### Fully-Connected Layer\n",
    "Implement the `fully_conn` function to apply a fully connected layer to `x_tensor` with the shape (*Batch Size*, *num_outputs*). Shortcut option: you can use classes from the [TensorFlow Layers](https://www.tensorflow.org/api_docs/python/tf/layers) or [TensorFlow Layers (contrib)](https://www.tensorflow.org/api_guides/python/contrib.layers) packages for this layer. For more of a challenge, only use other TensorFlow packages."
   ]
  },
  {
   "cell_type": "code",
   "execution_count": 30,
   "metadata": {
    "collapsed": false
   },
   "outputs": [
    {
     "name": "stdout",
     "output_type": "stream",
     "text": [
      "Tests Passed\n"
     ]
    }
   ],
   "source": [
    "def fully_conn(x_tensor, num_outputs):\n",
    "    \"\"\"\n",
    "    Apply a fully connected layer to x_tensor using weight and bias\n",
    "    : x_tensor: A 2-D tensor where the first dimension is batch size.\n",
    "    : num_outputs: The number of output that the new tensor should be.\n",
    "    : return: A 2-D tensor where the second dimension is num_outputs.\n",
    "    \"\"\"\n",
    "    # TODO: Implement Function\n",
    "    Weights = tf.Variable(tf.truncated_normal(shape=(int(x_tensor.shape[1]), num_outputs), mean=0, stddev=0.1))\n",
    "    Biases = tf.Variable(tf.zeros(num_outputs))\n",
    "    return tf.nn.relu(tf.add(tf.matmul(x_tensor, Weights), Biases))\n",
    "\n",
    "\n",
    "\"\"\"\n",
    "DON'T MODIFY ANYTHING IN THIS CELL THAT IS BELOW THIS LINE\n",
    "\"\"\"\n",
    "tests.test_fully_conn(fully_conn)"
   ]
  },
  {
   "cell_type": "markdown",
   "metadata": {},
   "source": [
    "### Output Layer\n",
    "Implement the `output` function to apply a fully connected layer to `x_tensor` with the shape (*Batch Size*, *num_outputs*). Shortcut option: you can use classes from the [TensorFlow Layers](https://www.tensorflow.org/api_docs/python/tf/layers) or [TensorFlow Layers (contrib)](https://www.tensorflow.org/api_guides/python/contrib.layers) packages for this layer. For more of a challenge, only use other TensorFlow packages.\n",
    "\n",
    "**Note:** Activation, softmax, or cross entropy should **not** be applied to this."
   ]
  },
  {
   "cell_type": "code",
   "execution_count": 31,
   "metadata": {
    "collapsed": false
   },
   "outputs": [
    {
     "name": "stdout",
     "output_type": "stream",
     "text": [
      "Tests Passed\n"
     ]
    }
   ],
   "source": [
    "def output(x_tensor, num_outputs):\n",
    "    \"\"\"\n",
    "    Apply a output layer to x_tensor using weight and bias\n",
    "    : x_tensor: A 2-D tensor where the first dimension is batch size.\n",
    "    : num_outputs: The number of output that the new tensor should be.\n",
    "    : return: A 2-D tensor where the second dimension is num_outputs.\n",
    "    \"\"\"\n",
    "    # TODO: Implement Function\n",
    "    Weight = tf.Variable(tf.truncated_normal(shape=[x_tensor.get_shape()[1].value, num_outputs], mean=0, stddev=0.1))\n",
    "    Bias = tf.Variable(tf.zeros(num_outputs))\n",
    "    return tf.nn.bias_add(tf.matmul(x_tensor, Weight), Bias)\n",
    "\n",
    "\n",
    "\"\"\"\n",
    "DON'T MODIFY ANYTHING IN THIS CELL THAT IS BELOW THIS LINE\n",
    "\"\"\"\n",
    "tests.test_output(output)"
   ]
  },
  {
   "cell_type": "markdown",
   "metadata": {},
   "source": [
    "### Create Convolutional Model\n",
    "Implement the function `conv_net` to create a convolutional neural network model. The function takes in a batch of images, `x`, and outputs logits.  Use the layers you created above to create this model:\n",
    "\n",
    "* Apply 1, 2, or 3 Convolution and Max Pool layers\n",
    "* Apply a Flatten Layer\n",
    "* Apply 1, 2, or 3 Fully Connected Layers\n",
    "* Apply an Output Layer\n",
    "* Return the output\n",
    "* Apply [TensorFlow's Dropout](https://www.tensorflow.org/api_docs/python/tf/nn/dropout) to one or more layers in the model using `keep_prob`. "
   ]
  },
  {
   "cell_type": "code",
   "execution_count": 32,
   "metadata": {
    "collapsed": false
   },
   "outputs": [
    {
     "name": "stdout",
     "output_type": "stream",
     "text": [
      "Neural Network Built!\n"
     ]
    }
   ],
   "source": [
    "def conv_net(x, keep_prob):\n",
    "    \"\"\"\n",
    "    Create a convolutional neural network model\n",
    "    : x: Placeholder tensor that holds image data.\n",
    "    : keep_prob: Placeholder tensor that hold dropout keep probability.\n",
    "    : return: Tensor that represents logits\n",
    "    \"\"\"\n",
    "    # TODO: Apply 1, 2, or 3 Convolution and Max Pool layers\n",
    "    #    Play around with different number of outputs, kernel size and stride\n",
    "    # Function Definition from Above:\n",
    "    #    conv2d_maxpool(x_tensor, conv_num_outputs, conv_ksize, conv_strides, pool_ksize, pool_strides)\n",
    "    conv1_num_outputs = 32\n",
    "    conv1_ksize = (3,3)\n",
    "    conv1_strides = (1,1)\n",
    "    conv1_pool_ksize = (2,2)\n",
    "    conv1_pool_strides = (2,2)\n",
    "    \n",
    "    conv2_num_outputs = 64\n",
    "    conv2_ksize = (3,3)\n",
    "    conv2_strides = (1,1)\n",
    "    conv2_pool_ksize = (2,2)\n",
    "    conv2_pool_strides = (2,2)\n",
    "    \n",
    "    conv3_num_outputs = 64\n",
    "    conv3_ksize = (3,3)\n",
    "    conv3_strides = (1,1)\n",
    "    conv3_pool_ksize = (2,2)\n",
    "    conv3_pool_strides = (2,2)\n",
    "    \n",
    "\n",
    "    \n",
    "    \n",
    "    conv1 = conv2d_maxpool(x, conv1_num_outputs, conv1_ksize, conv1_strides, conv1_pool_ksize, conv1_pool_strides)\n",
    "    conv2 = conv2d_maxpool(conv1, conv2_num_outputs, conv2_ksize, conv2_strides, conv2_pool_ksize, conv2_pool_strides)\n",
    "    conv3 = conv2d_maxpool(conv2, conv3_num_outputs, conv3_ksize, conv3_strides, conv3_pool_ksize, conv3_pool_strides)\n",
    "\n",
    "    # TODO: Apply a Flatten Layer\n",
    "    # Function Definition from Above:\n",
    "    #   flatten(x_tensor)\n",
    "    flat = flatten(conv3)\n",
    "\n",
    "    # TODO: Apply 1, 2, or 3 Fully Connected Layers\n",
    "    #    Play around with different number of outputs\n",
    "    # Function Definition from Above:\n",
    "    #   fully_conn(x_tensor, num_outputs)\n",
    "    fc1 = fully_conn(flat, 512)\n",
    "    fc1 = tf.nn.dropout(fc1, keep_prob)\n",
    "    \n",
    "    # TODO: Apply an Output Layer\n",
    "    #    Set this to the number of classes\n",
    "    # Function Definition from Above:\n",
    "    #   output(x_tensor, num_outputs)\n",
    "    op = output(fc1, 10)\n",
    "    return op\n",
    "    \n",
    "    # TODO: return output\n",
    "    return None\n",
    "\n",
    "\n",
    "\"\"\"\n",
    "DON'T MODIFY ANYTHING IN THIS CELL THAT IS BELOW THIS LINE\n",
    "\"\"\"\n",
    "\n",
    "##############################\n",
    "## Build the Neural Network ##\n",
    "##############################\n",
    "\n",
    "# Remove previous weights, bias, inputs, etc..\n",
    "tf.reset_default_graph()\n",
    "\n",
    "# Inputs\n",
    "x = neural_net_image_input((32, 32, 3))\n",
    "y = neural_net_label_input(10)\n",
    "keep_prob = neural_net_keep_prob_input()\n",
    "\n",
    "# Model\n",
    "logits = conv_net(x, keep_prob)\n",
    "\n",
    "# Name logits Tensor, so that is can be loaded from disk after training\n",
    "logits = tf.identity(logits, name='logits')\n",
    "\n",
    "# Loss and Optimizer\n",
    "cost = tf.reduce_mean(tf.nn.softmax_cross_entropy_with_logits(logits=logits, labels=y))\n",
    "optimizer = tf.train.AdamOptimizer().minimize(cost)\n",
    "\n",
    "# Accuracy\n",
    "correct_pred = tf.equal(tf.argmax(logits, 1), tf.argmax(y, 1))\n",
    "accuracy = tf.reduce_mean(tf.cast(correct_pred, tf.float32), name='accuracy')\n",
    "\n",
    "tests.test_conv_net(conv_net)"
   ]
  },
  {
   "cell_type": "markdown",
   "metadata": {},
   "source": [
    "## Train the Neural Network\n",
    "### Single Optimization\n",
    "Implement the function `train_neural_network` to do a single optimization.  The optimization should use `optimizer` to optimize in `session` with a `feed_dict` of the following:\n",
    "* `x` for image input\n",
    "* `y` for labels\n",
    "* `keep_prob` for keep probability for dropout\n",
    "\n",
    "This function will be called for each batch, so `tf.global_variables_initializer()` has already been called.\n",
    "\n",
    "Note: Nothing needs to be returned. This function is only optimizing the neural network."
   ]
  },
  {
   "cell_type": "code",
   "execution_count": 33,
   "metadata": {
    "collapsed": false
   },
   "outputs": [
    {
     "name": "stdout",
     "output_type": "stream",
     "text": [
      "Tests Passed\n"
     ]
    }
   ],
   "source": [
    "def train_neural_network(session, optimizer, keep_probability, feature_batch, label_batch):\n",
    "    \"\"\"\n",
    "    Optimize the session on a batch of images and labels\n",
    "    : session: Current TensorFlow session\n",
    "    : optimizer: TensorFlow optimizer function\n",
    "    : keep_probability: keep probability\n",
    "    : feature_batch: Batch of Numpy image data\n",
    "    : label_batch: Batch of Numpy label data\n",
    "    \"\"\"\n",
    "    # TODO: Implement Function\n",
    "    session.run(optimizer, feed_dict={x: feature_batch, y: label_batch, keep_prob: keep_probability})\n",
    "\n",
    "\n",
    "\"\"\"\n",
    "DON'T MODIFY ANYTHING IN THIS CELL THAT IS BELOW THIS LINE\n",
    "\"\"\"\n",
    "tests.test_train_nn(train_neural_network)"
   ]
  },
  {
   "cell_type": "markdown",
   "metadata": {},
   "source": [
    "### Show Stats\n",
    "Implement the function `print_stats` to print loss and validation accuracy.  Use the global variables `valid_features` and `valid_labels` to calculate validation accuracy.  Use a keep probability of `1.0` to calculate the loss and validation accuracy."
   ]
  },
  {
   "cell_type": "code",
   "execution_count": 34,
   "metadata": {
    "collapsed": false
   },
   "outputs": [],
   "source": [
    "def print_stats(session, feature_batch, label_batch, cost, accuracy):\n",
    "    \"\"\"\n",
    "    Print information about loss and validation accuracy\n",
    "    : session: Current TensorFlow session\n",
    "    : feature_batch: Batch of Numpy image data\n",
    "    : label_batch: Batch of Numpy label data\n",
    "    : cost: TensorFlow cost function\n",
    "    : accuracy: TensorFlow accuracy function\n",
    "    \"\"\"\n",
    "    # TODO: Implement Function\n",
    "    loss = session.run(cost, feed_dict={x:feature_batch, y:label_batch, keep_prob:1.})\n",
    "    accuracy = session.run(accuracy, feed_dict={x:valid_features, y:valid_labels, keep_prob:1.})\n",
    "    print('Loss: {:.6f} Val_Accuracy: {:.6%}'.format(loss, accuracy))"
   ]
  },
  {
   "cell_type": "markdown",
   "metadata": {},
   "source": [
    "#### Hyperparameters\n",
    "Tune the following parameters\n",
    "* Set `epochs` to the number of iterations until the network stops learning or start overfitting\n",
    "* Set `batch_size` to the highest number that your machine has memory for.  Most people set them to common sizes of memory:\n",
    " * 64\n",
    " * 128\n",
    " * 256\n",
    " * ...\n",
    "* Set `keep_probability` to the probability of keeping a node using dropout"
   ]
  },
  {
   "cell_type": "code",
   "execution_count": 35,
   "metadata": {
    "collapsed": true
   },
   "outputs": [],
   "source": [
    "# TODO: Tune Parameters\n",
    "epochs = 25\n",
    "batch_size =256\n",
    "keep_probability = 0.5"
   ]
  },
  {
   "cell_type": "markdown",
   "metadata": {},
   "source": [
    "### Train on a Single CIFAR-10 Batch\n",
    "Instead of training the neural network on all the CIFAR-10 batches of data, let's use a single batch. This should save time while you iterate on the model to get a better accuracy.  Once the final validation accuracy is 50% or greater, run the model on all the data in the next section."
   ]
  },
  {
   "cell_type": "code",
   "execution_count": 36,
   "metadata": {
    "collapsed": false
   },
   "outputs": [
    {
     "name": "stdout",
     "output_type": "stream",
     "text": [
      "Checking the Training on a Single Batch...\n",
      "Epoch  1, CIFAR-10 Batch 1:  Loss: 2.080609 Val_Accuracy: 34.360000%\n",
      "Epoch  2, CIFAR-10 Batch 1:  Loss: 1.820690 Val_Accuracy: 39.719999%\n",
      "Epoch  3, CIFAR-10 Batch 1:  Loss: 1.575098 Val_Accuracy: 44.400001%\n",
      "Epoch  4, CIFAR-10 Batch 1:  Loss: 1.379624 Val_Accuracy: 47.279999%\n",
      "Epoch  5, CIFAR-10 Batch 1:  Loss: 1.204040 Val_Accuracy: 49.720001%\n",
      "Epoch  6, CIFAR-10 Batch 1:  Loss: 1.018937 Val_Accuracy: 49.480000%\n",
      "Epoch  7, CIFAR-10 Batch 1:  Loss: 0.852913 Val_Accuracy: 52.819997%\n",
      "Epoch  8, CIFAR-10 Batch 1:  Loss: 0.757840 Val_Accuracy: 53.839999%\n",
      "Epoch  9, CIFAR-10 Batch 1:  Loss: 0.662375 Val_Accuracy: 55.540001%\n",
      "Epoch 10, CIFAR-10 Batch 1:  Loss: 0.552726 Val_Accuracy: 56.540000%\n",
      "Epoch 11, CIFAR-10 Batch 1:  Loss: 0.499248 Val_Accuracy: 55.140001%\n",
      "Epoch 12, CIFAR-10 Batch 1:  Loss: 0.390123 Val_Accuracy: 56.819999%\n",
      "Epoch 13, CIFAR-10 Batch 1:  Loss: 0.311043 Val_Accuracy: 55.839998%\n",
      "Epoch 14, CIFAR-10 Batch 1:  Loss: 0.245102 Val_Accuracy: 58.520001%\n",
      "Epoch 15, CIFAR-10 Batch 1:  Loss: 0.205373 Val_Accuracy: 59.399998%\n",
      "Epoch 16, CIFAR-10 Batch 1:  Loss: 0.202376 Val_Accuracy: 60.320002%\n",
      "Epoch 17, CIFAR-10 Batch 1:  Loss: 0.167686 Val_Accuracy: 59.539998%\n",
      "Epoch 18, CIFAR-10 Batch 1:  Loss: 0.143639 Val_Accuracy: 60.879999%\n",
      "Epoch 19, CIFAR-10 Batch 1:  Loss: 0.121949 Val_Accuracy: 59.719998%\n",
      "Epoch 20, CIFAR-10 Batch 1:  Loss: 0.123805 Val_Accuracy: 58.579999%\n",
      "Epoch 21, CIFAR-10 Batch 1:  Loss: 0.111977 Val_Accuracy: 58.800000%\n",
      "Epoch 22, CIFAR-10 Batch 1:  Loss: 0.096487 Val_Accuracy: 58.660001%\n",
      "Epoch 23, CIFAR-10 Batch 1:  Loss: 0.070602 Val_Accuracy: 61.000001%\n",
      "Epoch 24, CIFAR-10 Batch 1:  Loss: 0.081238 Val_Accuracy: 60.579997%\n",
      "Epoch 25, CIFAR-10 Batch 1:  Loss: 0.057518 Val_Accuracy: 60.240000%\n"
     ]
    }
   ],
   "source": [
    "\"\"\"\n",
    "DON'T MODIFY ANYTHING IN THIS CELL\n",
    "\"\"\"\n",
    "print('Checking the Training on a Single Batch...')\n",
    "with tf.Session() as sess:\n",
    "    # Initializing the variables\n",
    "    sess.run(tf.global_variables_initializer())\n",
    "    \n",
    "    # Training cycle\n",
    "    for epoch in range(epochs):\n",
    "        batch_i = 1\n",
    "        for batch_features, batch_labels in helper.load_preprocess_training_batch(batch_i, batch_size):\n",
    "            train_neural_network(sess, optimizer, keep_probability, batch_features, batch_labels)\n",
    "        print('Epoch {:>2}, CIFAR-10 Batch {}:  '.format(epoch + 1, batch_i), end='')\n",
    "        print_stats(sess, batch_features, batch_labels, cost, accuracy)"
   ]
  },
  {
   "cell_type": "markdown",
   "metadata": {},
   "source": [
    "### Fully Train the Model\n",
    "Now that you got a good accuracy with a single CIFAR-10 batch, try it with all five batches."
   ]
  },
  {
   "cell_type": "code",
   "execution_count": 37,
   "metadata": {
    "collapsed": false
   },
   "outputs": [
    {
     "name": "stdout",
     "output_type": "stream",
     "text": [
      "Training...\n",
      "Epoch  1, CIFAR-10 Batch 1:  Loss: 2.086370 Val_Accuracy: 32.339999%\n",
      "Epoch  1, CIFAR-10 Batch 2:  Loss: 1.623739 Val_Accuracy: 42.120001%\n",
      "Epoch  1, CIFAR-10 Batch 3:  Loss: 1.390681 Val_Accuracy: 44.180000%\n",
      "Epoch  1, CIFAR-10 Batch 4:  Loss: 1.411805 Val_Accuracy: 47.000000%\n",
      "Epoch  1, CIFAR-10 Batch 5:  Loss: 1.372235 Val_Accuracy: 50.419998%\n",
      "Epoch  2, CIFAR-10 Batch 1:  Loss: 1.473509 Val_Accuracy: 51.740003%\n",
      "Epoch  2, CIFAR-10 Batch 2:  Loss: 1.207040 Val_Accuracy: 52.240002%\n",
      "Epoch  2, CIFAR-10 Batch 3:  Loss: 0.971687 Val_Accuracy: 53.280002%\n",
      "Epoch  2, CIFAR-10 Batch 4:  Loss: 1.108579 Val_Accuracy: 57.400000%\n",
      "Epoch  2, CIFAR-10 Batch 5:  Loss: 1.032018 Val_Accuracy: 59.259999%\n",
      "Epoch  3, CIFAR-10 Batch 1:  Loss: 1.142898 Val_Accuracy: 58.039999%\n",
      "Epoch  3, CIFAR-10 Batch 2:  Loss: 0.926459 Val_Accuracy: 59.380001%\n",
      "Epoch  3, CIFAR-10 Batch 3:  Loss: 0.724752 Val_Accuracy: 58.740002%\n",
      "Epoch  3, CIFAR-10 Batch 4:  Loss: 0.871560 Val_Accuracy: 61.640000%\n",
      "Epoch  3, CIFAR-10 Batch 5:  Loss: 0.801169 Val_Accuracy: 61.739999%\n",
      "Epoch  4, CIFAR-10 Batch 1:  Loss: 0.883938 Val_Accuracy: 63.660002%\n",
      "Epoch  4, CIFAR-10 Batch 2:  Loss: 0.637990 Val_Accuracy: 62.800002%\n",
      "Epoch  4, CIFAR-10 Batch 3:  Loss: 0.559882 Val_Accuracy: 62.220001%\n",
      "Epoch  4, CIFAR-10 Batch 4:  Loss: 0.678748 Val_Accuracy: 64.980000%\n",
      "Epoch  4, CIFAR-10 Batch 5:  Loss: 0.610730 Val_Accuracy: 64.300001%\n",
      "Epoch  5, CIFAR-10 Batch 1:  Loss: 0.699293 Val_Accuracy: 65.719998%\n",
      "Epoch  5, CIFAR-10 Batch 2:  Loss: 0.515545 Val_Accuracy: 65.420002%\n",
      "Epoch  5, CIFAR-10 Batch 3:  Loss: 0.392741 Val_Accuracy: 66.880000%\n",
      "Epoch  5, CIFAR-10 Batch 4:  Loss: 0.540677 Val_Accuracy: 66.640002%\n",
      "Epoch  5, CIFAR-10 Batch 5:  Loss: 0.462897 Val_Accuracy: 66.500002%\n",
      "Epoch  6, CIFAR-10 Batch 1:  Loss: 0.546976 Val_Accuracy: 66.619998%\n",
      "Epoch  6, CIFAR-10 Batch 2:  Loss: 0.395119 Val_Accuracy: 67.979997%\n",
      "Epoch  6, CIFAR-10 Batch 3:  Loss: 0.313306 Val_Accuracy: 68.879998%\n",
      "Epoch  6, CIFAR-10 Batch 4:  Loss: 0.460184 Val_Accuracy: 67.780000%\n",
      "Epoch  6, CIFAR-10 Batch 5:  Loss: 0.346719 Val_Accuracy: 69.300002%\n",
      "Epoch  7, CIFAR-10 Batch 1:  Loss: 0.423577 Val_Accuracy: 68.379998%\n",
      "Epoch  7, CIFAR-10 Batch 2:  Loss: 0.280188 Val_Accuracy: 68.140000%\n",
      "Epoch  7, CIFAR-10 Batch 3:  Loss: 0.272367 Val_Accuracy: 68.820000%\n",
      "Epoch  7, CIFAR-10 Batch 4:  Loss: 0.364287 Val_Accuracy: 69.300002%\n",
      "Epoch  7, CIFAR-10 Batch 5:  Loss: 0.263848 Val_Accuracy: 70.319998%\n",
      "Epoch  8, CIFAR-10 Batch 1:  Loss: 0.296037 Val_Accuracy: 69.300002%\n",
      "Epoch  8, CIFAR-10 Batch 2:  Loss: 0.241514 Val_Accuracy: 70.899999%\n",
      "Epoch  8, CIFAR-10 Batch 3:  Loss: 0.200246 Val_Accuracy: 70.880002%\n",
      "Epoch  8, CIFAR-10 Batch 4:  Loss: 0.313002 Val_Accuracy: 70.020002%\n",
      "Epoch  8, CIFAR-10 Batch 5:  Loss: 0.209000 Val_Accuracy: 71.780002%\n",
      "Epoch  9, CIFAR-10 Batch 1:  Loss: 0.277547 Val_Accuracy: 67.580003%\n",
      "Epoch  9, CIFAR-10 Batch 2:  Loss: 0.191297 Val_Accuracy: 71.340001%\n",
      "Epoch  9, CIFAR-10 Batch 3:  Loss: 0.161517 Val_Accuracy: 71.179998%\n",
      "Epoch  9, CIFAR-10 Batch 4:  Loss: 0.230886 Val_Accuracy: 72.219998%\n",
      "Epoch  9, CIFAR-10 Batch 5:  Loss: 0.162964 Val_Accuracy: 72.399998%\n",
      "Epoch 10, CIFAR-10 Batch 1:  Loss: 0.203599 Val_Accuracy: 69.919997%\n",
      "Epoch 10, CIFAR-10 Batch 2:  Loss: 0.199103 Val_Accuracy: 70.719999%\n",
      "Epoch 10, CIFAR-10 Batch 3:  Loss: 0.141594 Val_Accuracy: 69.940001%\n",
      "Epoch 10, CIFAR-10 Batch 4:  Loss: 0.191935 Val_Accuracy: 72.200000%\n",
      "Epoch 10, CIFAR-10 Batch 5:  Loss: 0.141345 Val_Accuracy: 71.380001%\n",
      "Epoch 11, CIFAR-10 Batch 1:  Loss: 0.156523 Val_Accuracy: 69.199997%\n",
      "Epoch 11, CIFAR-10 Batch 2:  Loss: 0.121231 Val_Accuracy: 73.280001%\n",
      "Epoch 11, CIFAR-10 Batch 3:  Loss: 0.120931 Val_Accuracy: 71.799999%\n",
      "Epoch 11, CIFAR-10 Batch 4:  Loss: 0.155311 Val_Accuracy: 72.600001%\n",
      "Epoch 11, CIFAR-10 Batch 5:  Loss: 0.135890 Val_Accuracy: 72.500002%\n",
      "Epoch 12, CIFAR-10 Batch 1:  Loss: 0.118548 Val_Accuracy: 73.479998%\n",
      "Epoch 12, CIFAR-10 Batch 2:  Loss: 0.105316 Val_Accuracy: 72.880000%\n",
      "Epoch 12, CIFAR-10 Batch 3:  Loss: 0.104376 Val_Accuracy: 71.539998%\n",
      "Epoch 12, CIFAR-10 Batch 4:  Loss: 0.132901 Val_Accuracy: 72.439998%\n",
      "Epoch 12, CIFAR-10 Batch 5:  Loss: 0.098873 Val_Accuracy: 73.979998%\n",
      "Epoch 13, CIFAR-10 Batch 1:  Loss: 0.094912 Val_Accuracy: 72.579998%\n",
      "Epoch 13, CIFAR-10 Batch 2:  Loss: 0.097764 Val_Accuracy: 72.020000%\n",
      "Epoch 13, CIFAR-10 Batch 3:  Loss: 0.070945 Val_Accuracy: 73.220003%\n",
      "Epoch 13, CIFAR-10 Batch 4:  Loss: 0.094166 Val_Accuracy: 71.399999%\n",
      "Epoch 13, CIFAR-10 Batch 5:  Loss: 0.071927 Val_Accuracy: 73.879999%\n",
      "Epoch 14, CIFAR-10 Batch 1:  Loss: 0.066095 Val_Accuracy: 73.259997%\n",
      "Epoch 14, CIFAR-10 Batch 2:  Loss: 0.058038 Val_Accuracy: 72.340000%\n",
      "Epoch 14, CIFAR-10 Batch 3:  Loss: 0.059488 Val_Accuracy: 72.280002%\n",
      "Epoch 14, CIFAR-10 Batch 4:  Loss: 0.082199 Val_Accuracy: 72.020000%\n",
      "Epoch 14, CIFAR-10 Batch 5:  Loss: 0.063906 Val_Accuracy: 73.420000%\n",
      "Epoch 15, CIFAR-10 Batch 1:  Loss: 0.113571 Val_Accuracy: 72.780001%\n",
      "Epoch 15, CIFAR-10 Batch 2:  Loss: 0.041996 Val_Accuracy: 72.399998%\n",
      "Epoch 15, CIFAR-10 Batch 3:  Loss: 0.050886 Val_Accuracy: 73.320001%\n",
      "Epoch 15, CIFAR-10 Batch 4:  Loss: 0.073557 Val_Accuracy: 72.640002%\n",
      "Epoch 15, CIFAR-10 Batch 5:  Loss: 0.043638 Val_Accuracy: 72.079998%\n",
      "Epoch 16, CIFAR-10 Batch 1:  Loss: 0.058990 Val_Accuracy: 74.239999%\n",
      "Epoch 16, CIFAR-10 Batch 2:  Loss: 0.029402 Val_Accuracy: 72.359997%\n",
      "Epoch 16, CIFAR-10 Batch 3:  Loss: 0.036078 Val_Accuracy: 74.280000%\n",
      "Epoch 16, CIFAR-10 Batch 4:  Loss: 0.064175 Val_Accuracy: 71.480000%\n",
      "Epoch 16, CIFAR-10 Batch 5:  Loss: 0.049625 Val_Accuracy: 73.559999%\n",
      "Epoch 17, CIFAR-10 Batch 1:  Loss: 0.066232 Val_Accuracy: 73.619998%\n",
      "Epoch 17, CIFAR-10 Batch 2:  Loss: 0.028218 Val_Accuracy: 72.960001%\n",
      "Epoch 17, CIFAR-10 Batch 3:  Loss: 0.045757 Val_Accuracy: 72.340000%\n",
      "Epoch 17, CIFAR-10 Batch 4:  Loss: 0.037502 Val_Accuracy: 73.479998%\n",
      "Epoch 17, CIFAR-10 Batch 5:  Loss: 0.036461 Val_Accuracy: 73.580003%\n",
      "Epoch 18, CIFAR-10 Batch 1:  Loss: 0.042162 Val_Accuracy: 74.100000%\n",
      "Epoch 18, CIFAR-10 Batch 2:  Loss: 0.016902 Val_Accuracy: 72.899997%\n",
      "Epoch 18, CIFAR-10 Batch 3:  Loss: 0.030699 Val_Accuracy: 74.479997%\n",
      "Epoch 18, CIFAR-10 Batch 4:  Loss: 0.027113 Val_Accuracy: 74.059999%\n",
      "Epoch 18, CIFAR-10 Batch 5:  Loss: 0.030359 Val_Accuracy: 73.519999%\n",
      "Epoch 19, CIFAR-10 Batch 1:  Loss: 0.028920 Val_Accuracy: 74.299997%\n",
      "Epoch 19, CIFAR-10 Batch 2:  Loss: 0.026983 Val_Accuracy: 72.899997%\n",
      "Epoch 19, CIFAR-10 Batch 3:  Loss: 0.027447 Val_Accuracy: 73.400003%\n",
      "Epoch 19, CIFAR-10 Batch 4:  Loss: 0.040178 Val_Accuracy: 73.580003%\n",
      "Epoch 19, CIFAR-10 Batch 5:  Loss: 0.035654 Val_Accuracy: 73.180002%\n",
      "Epoch 20, CIFAR-10 Batch 1:  Loss: 0.029083 Val_Accuracy: 73.619998%\n",
      "Epoch 20, CIFAR-10 Batch 2:  Loss: 0.018810 Val_Accuracy: 71.899998%\n",
      "Epoch 20, CIFAR-10 Batch 3:  Loss: 0.014873 Val_Accuracy: 72.799999%\n",
      "Epoch 20, CIFAR-10 Batch 4:  Loss: 0.033025 Val_Accuracy: 73.299998%\n",
      "Epoch 20, CIFAR-10 Batch 5:  Loss: 0.026399 Val_Accuracy: 72.200000%\n",
      "Epoch 21, CIFAR-10 Batch 1:  Loss: 0.022688 Val_Accuracy: 74.559999%\n",
      "Epoch 21, CIFAR-10 Batch 2:  Loss: 0.017168 Val_Accuracy: 71.579999%\n",
      "Epoch 21, CIFAR-10 Batch 3:  Loss: 0.019799 Val_Accuracy: 72.680002%\n",
      "Epoch 21, CIFAR-10 Batch 4:  Loss: 0.028954 Val_Accuracy: 73.879999%\n",
      "Epoch 21, CIFAR-10 Batch 5:  Loss: 0.017644 Val_Accuracy: 73.780000%\n",
      "Epoch 22, CIFAR-10 Batch 1:  Loss: 0.020047 Val_Accuracy: 73.799998%\n",
      "Epoch 22, CIFAR-10 Batch 2:  Loss: 0.013795 Val_Accuracy: 71.980000%\n",
      "Epoch 22, CIFAR-10 Batch 3:  Loss: 0.013328 Val_Accuracy: 73.659998%\n",
      "Epoch 22, CIFAR-10 Batch 4:  Loss: 0.021738 Val_Accuracy: 74.500000%\n",
      "Epoch 22, CIFAR-10 Batch 5:  Loss: 0.038113 Val_Accuracy: 72.880000%\n",
      "Epoch 23, CIFAR-10 Batch 1:  Loss: 0.015206 Val_Accuracy: 74.720001%\n",
      "Epoch 23, CIFAR-10 Batch 2:  Loss: 0.015463 Val_Accuracy: 71.480000%\n",
      "Epoch 23, CIFAR-10 Batch 3:  Loss: 0.009469 Val_Accuracy: 74.239999%\n",
      "Epoch 23, CIFAR-10 Batch 4:  Loss: 0.020196 Val_Accuracy: 74.239999%\n",
      "Epoch 23, CIFAR-10 Batch 5:  Loss: 0.010595 Val_Accuracy: 73.780000%\n",
      "Epoch 24, CIFAR-10 Batch 1:  Loss: 0.016582 Val_Accuracy: 75.500000%\n",
      "Epoch 24, CIFAR-10 Batch 2:  Loss: 0.008881 Val_Accuracy: 72.780001%\n",
      "Epoch 24, CIFAR-10 Batch 3:  Loss: 0.010505 Val_Accuracy: 74.220002%\n",
      "Epoch 24, CIFAR-10 Batch 4:  Loss: 0.014160 Val_Accuracy: 74.040002%\n",
      "Epoch 24, CIFAR-10 Batch 5:  Loss: 0.011950 Val_Accuracy: 73.379999%\n",
      "Epoch 25, CIFAR-10 Batch 1:  Loss: 0.009065 Val_Accuracy: 74.360001%\n",
      "Epoch 25, CIFAR-10 Batch 2:  Loss: 0.008089 Val_Accuracy: 72.600001%\n",
      "Epoch 25, CIFAR-10 Batch 3:  Loss: 0.008216 Val_Accuracy: 74.640000%\n",
      "Epoch 25, CIFAR-10 Batch 4:  Loss: 0.021575 Val_Accuracy: 73.019999%\n",
      "Epoch 25, CIFAR-10 Batch 5:  Loss: 0.008502 Val_Accuracy: 74.140000%\n"
     ]
    }
   ],
   "source": [
    "\"\"\"\n",
    "DON'T MODIFY ANYTHING IN THIS CELL\n",
    "\"\"\"\n",
    "save_model_path = './image_classification'\n",
    "\n",
    "print('Training...')\n",
    "with tf.Session() as sess:\n",
    "    # Initializing the variables\n",
    "    sess.run(tf.global_variables_initializer())\n",
    "    \n",
    "    # Training cycle\n",
    "    for epoch in range(epochs):\n",
    "        # Loop over all batches\n",
    "        n_batches = 5\n",
    "        for batch_i in range(1, n_batches + 1):\n",
    "            for batch_features, batch_labels in helper.load_preprocess_training_batch(batch_i, batch_size):\n",
    "                train_neural_network(sess, optimizer, keep_probability, batch_features, batch_labels)\n",
    "            print('Epoch {:>2}, CIFAR-10 Batch {}:  '.format(epoch + 1, batch_i), end='')\n",
    "            print_stats(sess, batch_features, batch_labels, cost, accuracy)\n",
    "            \n",
    "    # Save Model\n",
    "    saver = tf.train.Saver()\n",
    "    save_path = saver.save(sess, save_model_path)"
   ]
  },
  {
   "cell_type": "markdown",
   "metadata": {},
   "source": [
    "# Checkpoint\n",
    "The model has been saved to disk.\n",
    "## Test Model\n",
    "Test your model against the test dataset.  This will be your final accuracy. You should have an accuracy greater than 50%. If you don't, keep tweaking the model architecture and parameters."
   ]
  },
  {
   "cell_type": "code",
   "execution_count": 39,
   "metadata": {
    "collapsed": false
   },
   "outputs": [
    {
     "name": "stdout",
     "output_type": "stream",
     "text": [
      "Testing Accuracy: 0.73134765625\n",
      "\n"
     ]
    },
    {
     "data": {
      "image/png": "[encoded data removed]",
      "text/plain": [
       "<matplotlib.figure.Figure at 0x7f8230b6efd0>"
      ]
     },
     "metadata": {
      "image/png": {
       "height": 319,
       "width": 355
      }
     },
     "output_type": "display_data"
    }
   ],
   "source": [
    "\"\"\"\n",
    "DON'T MODIFY ANYTHING IN THIS CELL\n",
    "\"\"\"\n",
    "%matplotlib inline\n",
    "%config InlineBackend.figure_format = 'retina'\n",
    "\n",
    "import tensorflow as tf\n",
    "import pickle\n",
    "import helper\n",
    "import random\n",
    "\n",
    "# Set batch size if not already set\n",
    "try:\n",
    "    if batch_size:\n",
    "        pass\n",
    "except NameError:\n",
    "    batch_size = 64\n",
    "\n",
    "save_model_path = './image_classification'\n",
    "n_samples = 4\n",
    "top_n_predictions = 3\n",
    "\n",
    "def test_model():\n",
    "    \"\"\"\n",
    "    Test the saved model against the test dataset\n",
    "    \"\"\"\n",
    "\n",
    "    test_features, test_labels = pickle.load(open('preprocess_training.p', mode='rb'))\n",
    "    loaded_graph = tf.Graph()\n",
    "\n",
    "    with tf.Session(graph=loaded_graph) as sess:\n",
    "        # Load model\n",
    "        loader = tf.train.import_meta_graph(save_model_path + '.meta')\n",
    "        loader.restore(sess, save_model_path)\n",
    "\n",
    "        # Get Tensors from loaded model\n",
    "        loaded_x = loaded_graph.get_tensor_by_name('x:0')\n",
    "        loaded_y = loaded_graph.get_tensor_by_name('y:0')\n",
    "        loaded_keep_prob = loaded_graph.get_tensor_by_name('keep_prob:0')\n",
    "        loaded_logits = loaded_graph.get_tensor_by_name('logits:0')\n",
    "        loaded_acc = loaded_graph.get_tensor_by_name('accuracy:0')\n",
    "        \n",
    "        # Get accuracy in batches for memory limitations\n",
    "        test_batch_acc_total = 0\n",
    "        test_batch_count = 0\n",
    "        \n",
    "        for train_feature_batch, train_label_batch in helper.batch_features_labels(test_features, test_labels, batch_size):\n",
    "            test_batch_acc_total += sess.run(\n",
    "                loaded_acc,\n",
    "                feed_dict={loaded_x: train_feature_batch, loaded_y: train_label_batch, loaded_keep_prob: 1.0})\n",
    "            test_batch_count += 1\n",
    "\n",
    "        print('Testing Accuracy: {}\\n'.format(test_batch_acc_total/test_batch_count))\n",
    "\n",
    "        # Print Random Samples\n",
    "        random_test_features, random_test_labels = tuple(zip(*random.sample(list(zip(test_features, test_labels)), n_samples)))\n",
    "        random_test_predictions = sess.run(\n",
    "            tf.nn.top_k(tf.nn.softmax(loaded_logits), top_n_predictions),\n",
    "            feed_dict={loaded_x: random_test_features, loaded_y: random_test_labels, loaded_keep_prob: 1.0})\n",
    "        helper.display_image_predictions(random_test_features, random_test_labels, random_test_predictions)\n",
    "\n",
    "\n",
    "test_model()"
   ]
  },
  {
   "cell_type": "markdown",
   "metadata": {},
   "source": [
    "## Why 50-70% Accuracy?\n",
    "You might be wondering why you can't get an accuracy any higher. First things first, 50% isn't bad for a simple CNN.  Pure guessing would get you 10% accuracy. However, you might notice people are getting scores [well above 70%](http://rodrigob.github.io/are_we_there_yet/build/classification_datasets_results.html#43494641522d3130).  That's because we haven't taught you all there is to know about neural networks. We still need to cover a few more techniques.\n",
    "## Submitting This Project\n",
    "When submitting this project, make sure to run all the cells before saving the notebook.  Save the notebook file as \"dlnd_image_classification.ipynb\" and save it as a HTML file under \"File\" -> \"Download as\".  Include the \"helper.py\" and \"problem_unittests.py\" files in your submission."
   ]
  },
  {
   "cell_type": "code",
   "execution_count": null,
   "metadata": {
    "collapsed": true
   },
   "outputs": [],
   "source": []
  },
  {
   "cell_type": "code",
   "execution_count": null,
   "metadata": {
    "collapsed": true
   },
   "outputs": [],
   "source": []
  }
 ],
 "metadata": {
  "kernelspec": {
   "display_name": "Python 3",
   "language": "python",
   "name": "python3"
  },
  "language_info": {
   "codemirror_mode": {
    "name": "ipython",
    "version": 3
   },
   "file_extension": ".py",
   "mimetype": "text/x-python",
   "name": "python",
   "nbconvert_exporter": "python",
   "pygments_lexer": "ipython3",
   "version": "3.5.2"
  }
 },
 "nbformat": 4,
 "nbformat_minor": 0
}
